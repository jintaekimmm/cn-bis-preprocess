{
 "cells": [
  {
   "cell_type": "code",
   "outputs": [
    {
     "name": "stdout",
     "output_type": "stream",
     "text": [
      "Collecting geopandas\r\n",
      "  Obtaining dependency information for geopandas from https://files.pythonhosted.org/packages/3e/cf/ede993ed7070c5487e6db550aad490178c06eaa48ad26ff5e5263f995fba/geopandas-0.14.1-py3-none-any.whl.metadata\r\n",
      "  Downloading geopandas-0.14.1-py3-none-any.whl.metadata (1.5 kB)\r\n",
      "Collecting fiona>=1.8.21 (from geopandas)\r\n",
      "  Obtaining dependency information for fiona>=1.8.21 from https://files.pythonhosted.org/packages/a5/40/f25a33d54825d52f8b7f53adf8cb6d8f554179feb942bf2983c8b440decf/fiona-1.9.5-cp311-cp311-macosx_10_15_x86_64.whl.metadata\r\n",
      "  Downloading fiona-1.9.5-cp311-cp311-macosx_10_15_x86_64.whl.metadata (49 kB)\r\n",
      "\u001B[2K     \u001B[90m━━━━━━━━━━━━━━━━━━━━━━━━━━━━━━━━━━━━━━━━\u001B[0m \u001B[32m49.7/49.7 kB\u001B[0m \u001B[31m1.2 MB/s\u001B[0m eta \u001B[36m0:00:00\u001B[0m\r\n",
      "\u001B[?25hRequirement already satisfied: packaging in /Users/kimjintae/Python/vPy311_cn-bis-preprocess/lib/python3.11/site-packages (from geopandas) (23.2)\r\n",
      "Requirement already satisfied: pandas>=1.4.0 in /Users/kimjintae/Python/vPy311_cn-bis-preprocess/lib/python3.11/site-packages (from geopandas) (2.1.4)\r\n",
      "Collecting pyproj>=3.3.0 (from geopandas)\r\n",
      "  Obtaining dependency information for pyproj>=3.3.0 from https://files.pythonhosted.org/packages/84/a6/a300c1b14b2112e966e9f90b18f9c13b586bdcf417207cee913ae9005da3/pyproj-3.6.1-cp311-cp311-macosx_10_9_x86_64.whl.metadata\r\n",
      "  Downloading pyproj-3.6.1-cp311-cp311-macosx_10_9_x86_64.whl.metadata (31 kB)\r\n",
      "Collecting shapely>=1.8.0 (from geopandas)\r\n",
      "  Obtaining dependency information for shapely>=1.8.0 from https://files.pythonhosted.org/packages/81/50/c7768a0a71c012464927228b6b949e55ad8d7ed50325b56b7224ea7dc7a6/shapely-2.0.2-cp311-cp311-macosx_10_9_x86_64.whl.metadata\r\n",
      "  Downloading shapely-2.0.2-cp311-cp311-macosx_10_9_x86_64.whl.metadata (7.0 kB)\r\n",
      "Requirement already satisfied: attrs>=19.2.0 in /Users/kimjintae/Python/vPy311_cn-bis-preprocess/lib/python3.11/site-packages (from fiona>=1.8.21->geopandas) (23.1.0)\r\n",
      "Requirement already satisfied: certifi in /Users/kimjintae/Python/vPy311_cn-bis-preprocess/lib/python3.11/site-packages (from fiona>=1.8.21->geopandas) (2023.11.17)\r\n",
      "Collecting click~=8.0 (from fiona>=1.8.21->geopandas)\r\n",
      "  Obtaining dependency information for click~=8.0 from https://files.pythonhosted.org/packages/00/2e/d53fa4befbf2cfa713304affc7ca780ce4fc1fd8710527771b58311a3229/click-8.1.7-py3-none-any.whl.metadata\r\n",
      "  Downloading click-8.1.7-py3-none-any.whl.metadata (3.0 kB)\r\n",
      "Collecting click-plugins>=1.0 (from fiona>=1.8.21->geopandas)\r\n",
      "  Using cached click_plugins-1.1.1-py2.py3-none-any.whl (7.5 kB)\r\n",
      "Collecting cligj>=0.5 (from fiona>=1.8.21->geopandas)\r\n",
      "  Using cached cligj-0.7.2-py3-none-any.whl (7.1 kB)\r\n",
      "Requirement already satisfied: six in /Users/kimjintae/Python/vPy311_cn-bis-preprocess/lib/python3.11/site-packages (from fiona>=1.8.21->geopandas) (1.16.0)\r\n",
      "Requirement already satisfied: setuptools in /Users/kimjintae/Python/vPy311_cn-bis-preprocess/lib/python3.11/site-packages (from fiona>=1.8.21->geopandas) (68.2.2)\r\n",
      "Requirement already satisfied: numpy<2,>=1.23.2 in /Users/kimjintae/Python/vPy311_cn-bis-preprocess/lib/python3.11/site-packages (from pandas>=1.4.0->geopandas) (1.26.2)\r\n",
      "Requirement already satisfied: python-dateutil>=2.8.2 in /Users/kimjintae/Python/vPy311_cn-bis-preprocess/lib/python3.11/site-packages (from pandas>=1.4.0->geopandas) (2.8.2)\r\n",
      "Requirement already satisfied: pytz>=2020.1 in /Users/kimjintae/Python/vPy311_cn-bis-preprocess/lib/python3.11/site-packages (from pandas>=1.4.0->geopandas) (2023.3.post1)\r\n",
      "Requirement already satisfied: tzdata>=2022.1 in /Users/kimjintae/Python/vPy311_cn-bis-preprocess/lib/python3.11/site-packages (from pandas>=1.4.0->geopandas) (2023.3)\r\n",
      "Downloading geopandas-0.14.1-py3-none-any.whl (1.1 MB)\r\n",
      "\u001B[2K   \u001B[90m━━━━━━━━━━━━━━━━━━━━━━━━━━━━━━━━━━━━━━━━\u001B[0m \u001B[32m1.1/1.1 MB\u001B[0m \u001B[31m14.5 MB/s\u001B[0m eta \u001B[36m0:00:00\u001B[0ma \u001B[36m0:00:01\u001B[0m\r\n",
      "\u001B[?25hDownloading fiona-1.9.5-cp311-cp311-macosx_10_15_x86_64.whl (18.5 MB)\r\n",
      "\u001B[2K   \u001B[90m━━━━━━━━━━━━━━━━━━━━━━━━━━━━━━━━━━━━━━━━\u001B[0m \u001B[32m18.5/18.5 MB\u001B[0m \u001B[31m14.4 MB/s\u001B[0m eta \u001B[36m0:00:00\u001B[0m00:01\u001B[0m00:01\u001B[0m\r\n",
      "\u001B[?25hDownloading pyproj-3.6.1-cp311-cp311-macosx_10_9_x86_64.whl (6.1 MB)\r\n",
      "\u001B[2K   \u001B[90m━━━━━━━━━━━━━━━━━━━━━━━━━━━━━━━━━━━━━━━━\u001B[0m \u001B[32m6.1/6.1 MB\u001B[0m \u001B[31m18.5 MB/s\u001B[0m eta \u001B[36m0:00:00\u001B[0m00:01\u001B[0m00:01\u001B[0m\r\n",
      "\u001B[?25hDownloading shapely-2.0.2-cp311-cp311-macosx_10_9_x86_64.whl (1.4 MB)\r\n",
      "\u001B[2K   \u001B[90m━━━━━━━━━━━━━━━━━━━━━━━━━━━━━━━━━━━━━━━━\u001B[0m \u001B[32m1.4/1.4 MB\u001B[0m \u001B[31m14.4 MB/s\u001B[0m eta \u001B[36m0:00:00\u001B[0m00:01\u001B[0m00:01\u001B[0m\r\n",
      "\u001B[?25hUsing cached click-8.1.7-py3-none-any.whl (97 kB)\r\n",
      "Installing collected packages: shapely, pyproj, click, cligj, click-plugins, fiona, geopandas\r\n",
      "Successfully installed click-8.1.7 click-plugins-1.1.1 cligj-0.7.2 fiona-1.9.5 geopandas-0.14.1 pyproj-3.6.1 shapely-2.0.2\r\n",
      "\r\n",
      "\u001B[1m[\u001B[0m\u001B[34;49mnotice\u001B[0m\u001B[1;39;49m]\u001B[0m\u001B[39;49m A new release of pip is available: \u001B[0m\u001B[31;49m23.2.1\u001B[0m\u001B[39;49m -> \u001B[0m\u001B[32;49m23.3.2\u001B[0m\r\n",
      "\u001B[1m[\u001B[0m\u001B[34;49mnotice\u001B[0m\u001B[1;39;49m]\u001B[0m\u001B[39;49m To update, run: \u001B[0m\u001B[32;49mpip install --upgrade pip\u001B[0m\r\n",
      "Note: you may need to restart the kernel to use updated packages.\n"
     ]
    }
   ],
   "source": [
    "%pip install geopandas"
   ],
   "metadata": {
    "collapsed": false,
    "ExecuteTime": {
     "end_time": "2023-12-28T08:10:45.024886Z",
     "start_time": "2023-12-28T08:10:36.829350Z"
    }
   },
   "id": "b25130b41d572bf3",
   "execution_count": 1
  },
  {
   "cell_type": "code",
   "execution_count": 2,
   "id": "initial_id",
   "metadata": {
    "collapsed": true,
    "ExecuteTime": {
     "end_time": "2023-12-28T08:11:00.331839Z",
     "start_time": "2023-12-28T08:10:54.325324Z"
    }
   },
   "outputs": [],
   "source": [
    "import geopandas as gpd\n",
    "from shapely.geometry import Polygon\n",
    "from pyproj import Proj, transform"
   ]
  },
  {
   "cell_type": "code",
   "outputs": [],
   "source": [
    "gdf = gpd.read_file('TL_SCCO_SIG.shp', encoding='cp949')"
   ],
   "metadata": {
    "collapsed": false,
    "ExecuteTime": {
     "end_time": "2023-12-28T08:11:13.425084Z",
     "start_time": "2023-12-28T08:11:04.109575Z"
    }
   },
   "id": "5eacb7fe395d3959",
   "execution_count": 3
  },
  {
   "cell_type": "code",
   "outputs": [],
   "source": [
    "gdf['sido'] = '서울'\n",
    "gdf.rename(columns={\n",
    "    \"SIG_CD\": \"sig_code\",\n",
    "    \"SIG_ENG_NM\": \"sig_eng_name\",\n",
    "    \"SIG_KOR_NM\": \"sig_kor_name\",\n",
    "}, inplace=True)\n",
    "\n",
    "gdf = gdf[[\"sig_code\", \"sido\", \"sig_eng_name\", \"sig_kor_name\", \"geometry\"]]"
   ],
   "metadata": {
    "collapsed": false,
    "ExecuteTime": {
     "end_time": "2023-12-28T08:11:18.198445Z",
     "start_time": "2023-12-28T08:11:18.184610Z"
    }
   },
   "id": "1e19faf4bd871d0d",
   "execution_count": 4
  },
  {
   "cell_type": "code",
   "outputs": [],
   "source": [
    "gdf['sig_code'] = gdf['sig_code'].astype('int')\n",
    "# SRID(CRS)를 설정한다\n",
    "gdf = gpd.GeoDataFrame(gdf, crs='EPSG:4326', geometry=gdf['geometry'])"
   ],
   "metadata": {
    "collapsed": false,
    "ExecuteTime": {
     "end_time": "2023-12-28T08:11:18.786930Z",
     "start_time": "2023-12-28T08:11:18.775128Z"
    }
   },
   "id": "5d92acd5acc05501",
   "execution_count": 5
  },
  {
   "cell_type": "code",
   "outputs": [
    {
     "name": "stderr",
     "output_type": "stream",
     "text": [
      "/Users/kimjintae/Python/vPy311_cn-bis-preprocess/lib/python3.11/site-packages/pyproj/crs/crs.py:141: FutureWarning: '+init=<authority>:<code>' syntax is deprecated. '<authority>:<code>' is the preferred initialization method. When making the change, be mindful of axis order changes: https://pyproj4.github.io/pyproj/stable/gotchas.html#axis-order-changes-in-proj-6\n",
      "  in_crs_string = _prepare_from_proj_string(in_crs_string)\n",
      "/Users/kimjintae/Python/vPy311_cn-bis-preprocess/lib/python3.11/site-packages/pyproj/crs/crs.py:141: FutureWarning: '+init=<authority>:<code>' syntax is deprecated. '<authority>:<code>' is the preferred initialization method. When making the change, be mindful of axis order changes: https://pyproj4.github.io/pyproj/stable/gotchas.html#axis-order-changes-in-proj-6\n",
      "  in_crs_string = _prepare_from_proj_string(in_crs_string)\n"
     ]
    }
   ],
   "source": [
    "utm_k_srid = 5179\n",
    "project_utm_k = Proj(init=f'epsg:{utm_k_srid}')\n",
    "project_wgs84 = Proj(init='epsg:4326')\n",
    "\n",
    "\n",
    "def utm_k_polygon_to_wgs84(polygon):\n",
    "    \"\"\"\n",
    "    UTM-K 좌표계를 WGS84로 변환하여 반환한다\n",
    "    \n",
    "    :param polygon: utm-k 좌표계를 가진 Polygon 데이터 \n",
    "    :return: WGS84 좌표계를 가진 Polygon 데이터\n",
    "    \"\"\"\n",
    "   \n",
    "    # 좌표계를 변환한다\n",
    "    wgs84_coordinates = [transform(project_utm_k, project_wgs84, lon, lat) for lon, lat in polygon.exterior.coords]\n",
    "\n",
    "    # longitude, latitude 순서를 변경하고 Polygon 객체를 생성한다\n",
    "    wgs84_polygon = Polygon([(lat, lon) for lon, lat in wgs84_coordinates])\n",
    "\n",
    "    return wgs84_polygon"
   ],
   "metadata": {
    "collapsed": false,
    "ExecuteTime": {
     "end_time": "2023-12-28T08:11:19.473226Z",
     "start_time": "2023-12-28T08:11:19.439146Z"
    }
   },
   "id": "ef4a9bb93e2bcebb",
   "execution_count": 6
  },
  {
   "cell_type": "code",
   "outputs": [
    {
     "name": "stderr",
     "output_type": "stream",
     "text": [
      "/var/folders/kd/ln3s3sbd24g80yqyfgdk36180000gn/T/ipykernel_23892/558079026.py:15: FutureWarning: This function is deprecated. See: https://pyproj4.github.io/pyproj/stable/gotchas.html#upgrading-to-pyproj-2-from-pyproj-1\n",
      "  wgs84_coordinates = [transform(project_utm_k, project_wgs84, lon, lat) for lon, lat in polygon.exterior.coords]\n"
     ]
    }
   ],
   "source": [
    "# utm-k 좌표계를 wgs84 좌표계로 변환한다\n",
    "gdf['geometry'] = gdf['geometry'].apply(utm_k_polygon_to_wgs84)"
   ],
   "metadata": {
    "collapsed": false,
    "ExecuteTime": {
     "end_time": "2023-12-28T08:29:27.339372Z",
     "start_time": "2023-12-28T08:11:20.938547Z"
    }
   },
   "id": "b77557a894bfbb37",
   "execution_count": 7
  },
  {
   "cell_type": "code",
   "outputs": [],
   "source": [
    "# geojson 파일로 저장한다\n",
    "gdf.to_file(\"hang_jeong_gu.geojson\", driver=\"GeoJSON\")"
   ],
   "metadata": {
    "collapsed": false,
    "ExecuteTime": {
     "end_time": "2023-12-28T08:29:28.617908Z",
     "start_time": "2023-12-28T08:29:27.347175Z"
    }
   },
   "id": "3b5aba5f8588b880",
   "execution_count": 8
  }
 ],
 "metadata": {
  "kernelspec": {
   "display_name": "Python 3",
   "language": "python",
   "name": "python3"
  },
  "language_info": {
   "codemirror_mode": {
    "name": "ipython",
    "version": 2
   },
   "file_extension": ".py",
   "mimetype": "text/x-python",
   "name": "python",
   "nbconvert_exporter": "python",
   "pygments_lexer": "ipython2",
   "version": "2.7.6"
  }
 },
 "nbformat": 4,
 "nbformat_minor": 5
}
