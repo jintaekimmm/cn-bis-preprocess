{
 "cells": [
  {
   "cell_type": "code",
   "outputs": [
    {
     "name": "stdout",
     "output_type": "stream",
     "text": [
      "Requirement already satisfied: openpyxl in /Users/kimjintae/Python/vPy311_cn-bis-preprocess/lib/python3.11/site-packages (3.1.2)\r\n",
      "Requirement already satisfied: pandas in /Users/kimjintae/Python/vPy311_cn-bis-preprocess/lib/python3.11/site-packages (2.1.4)\r\n",
      "Requirement already satisfied: et-xmlfile in /Users/kimjintae/Python/vPy311_cn-bis-preprocess/lib/python3.11/site-packages (from openpyxl) (1.1.0)\r\n",
      "Requirement already satisfied: numpy<2,>=1.23.2 in /Users/kimjintae/Python/vPy311_cn-bis-preprocess/lib/python3.11/site-packages (from pandas) (1.26.2)\r\n",
      "Requirement already satisfied: python-dateutil>=2.8.2 in /Users/kimjintae/Python/vPy311_cn-bis-preprocess/lib/python3.11/site-packages (from pandas) (2.8.2)\r\n",
      "Requirement already satisfied: pytz>=2020.1 in /Users/kimjintae/Python/vPy311_cn-bis-preprocess/lib/python3.11/site-packages (from pandas) (2023.3.post1)\r\n",
      "Requirement already satisfied: tzdata>=2022.1 in /Users/kimjintae/Python/vPy311_cn-bis-preprocess/lib/python3.11/site-packages (from pandas) (2023.3)\r\n",
      "Requirement already satisfied: six>=1.5 in /Users/kimjintae/Python/vPy311_cn-bis-preprocess/lib/python3.11/site-packages (from python-dateutil>=2.8.2->pandas) (1.16.0)\r\n",
      "\r\n",
      "\u001B[1m[\u001B[0m\u001B[34;49mnotice\u001B[0m\u001B[1;39;49m]\u001B[0m\u001B[39;49m A new release of pip is available: \u001B[0m\u001B[31;49m23.2.1\u001B[0m\u001B[39;49m -> \u001B[0m\u001B[32;49m23.3.2\u001B[0m\r\n",
      "\u001B[1m[\u001B[0m\u001B[34;49mnotice\u001B[0m\u001B[1;39;49m]\u001B[0m\u001B[39;49m To update, run: \u001B[0m\u001B[32;49mpip install --upgrade pip\u001B[0m\r\n",
      "Note: you may need to restart the kernel to use updated packages.\n"
     ]
    }
   ],
   "source": [
    "%pip install openpyxl pandas"
   ],
   "metadata": {
    "collapsed": false,
    "ExecuteTime": {
     "end_time": "2023-12-29T01:41:45.363619Z",
     "start_time": "2023-12-29T01:41:40.733230Z"
    }
   },
   "id": "a44ead2b12a44487",
   "execution_count": 1
  },
  {
   "cell_type": "code",
   "execution_count": 2,
   "id": "initial_id",
   "metadata": {
    "collapsed": true,
    "ExecuteTime": {
     "end_time": "2023-12-29T01:41:46.152912Z",
     "start_time": "2023-12-29T01:41:45.309758Z"
    }
   },
   "outputs": [],
   "source": [
    "import pandas as pd"
   ]
  },
  {
   "cell_type": "code",
   "outputs": [],
   "source": [
    "# 버스 정류장 데이터를 불러온다\n",
    "station_df = pd.read_csv('국토교통부_전국 버스정류장 위치정보_20231016.csv', encoding='cp949')"
   ],
   "metadata": {
    "collapsed": false,
    "ExecuteTime": {
     "end_time": "2023-12-29T01:41:47.795936Z",
     "start_time": "2023-12-29T01:41:46.156821Z"
    }
   },
   "id": "2236d3c659d43ad7",
   "execution_count": 3
  },
  {
   "cell_type": "code",
   "outputs": [
    {
     "name": "stdout",
     "output_type": "stream",
     "text": [
      "<class 'pandas.core.frame.DataFrame'>\n",
      "RangeIndex: 204209 entries, 0 to 204208\n",
      "Data columns (total 9 columns):\n",
      " #   Column   Non-Null Count   Dtype  \n",
      "---  ------   --------------   -----  \n",
      " 0   정류장번호    204209 non-null  object \n",
      " 1   정류장명     204207 non-null  object \n",
      " 2   위도       204207 non-null  float64\n",
      " 3   경도       204207 non-null  float64\n",
      " 4   정보수집일    204209 non-null  object \n",
      " 5   모바일단축번호  187350 non-null  float64\n",
      " 6   도시코드     204209 non-null  int64  \n",
      " 7   도시명      204209 non-null  object \n",
      " 8   관리도시명    204209 non-null  object \n",
      "dtypes: float64(3), int64(1), object(5)\n",
      "memory usage: 14.0+ MB\n"
     ]
    }
   ],
   "source": [
    "station_df.info()"
   ],
   "metadata": {
    "collapsed": false,
    "ExecuteTime": {
     "end_time": "2023-12-29T01:41:47.952165Z",
     "start_time": "2023-12-29T01:41:47.807948Z"
    }
   },
   "id": "1b57dee9ccf9c8a9",
   "execution_count": 4
  },
  {
   "cell_type": "code",
   "outputs": [
    {
     "name": "stdout",
     "output_type": "stream",
     "text": [
      "정류장명\n",
      "위도\n",
      "경도\n",
      "모바일단축번호\n"
     ]
    }
   ],
   "source": [
    "# NA 값이 존재하는지 확인한다\n",
    "for col in station_df.columns:\n",
    "    if sum(station_df[col].isna()):\n",
    "        print(col)"
   ],
   "metadata": {
    "collapsed": false,
    "ExecuteTime": {
     "end_time": "2023-12-29T01:41:48.205435Z",
     "start_time": "2023-12-29T01:41:48.016716Z"
    }
   },
   "id": "f7632b6027f7d7a0",
   "execution_count": 5
  },
  {
   "cell_type": "code",
   "outputs": [
    {
     "data": {
      "text/plain": "          정류장번호 정류장명  위도  경도       정보수집일  모바일단축번호   도시코드       도시명 관리도시명\n133400  MYB6900  NaN NaN NaN  2023-10-16      NaN  38080  경상남도 밀양시    밀양\n133401  MYB6901  NaN NaN NaN  2023-10-16      NaN  38080  경상남도 밀양시    밀양",
      "text/html": "<div>\n<style scoped>\n    .dataframe tbody tr th:only-of-type {\n        vertical-align: middle;\n    }\n\n    .dataframe tbody tr th {\n        vertical-align: top;\n    }\n\n    .dataframe thead th {\n        text-align: right;\n    }\n</style>\n<table border=\"1\" class=\"dataframe\">\n  <thead>\n    <tr style=\"text-align: right;\">\n      <th></th>\n      <th>정류장번호</th>\n      <th>정류장명</th>\n      <th>위도</th>\n      <th>경도</th>\n      <th>정보수집일</th>\n      <th>모바일단축번호</th>\n      <th>도시코드</th>\n      <th>도시명</th>\n      <th>관리도시명</th>\n    </tr>\n  </thead>\n  <tbody>\n    <tr>\n      <th>133400</th>\n      <td>MYB6900</td>\n      <td>NaN</td>\n      <td>NaN</td>\n      <td>NaN</td>\n      <td>2023-10-16</td>\n      <td>NaN</td>\n      <td>38080</td>\n      <td>경상남도 밀양시</td>\n      <td>밀양</td>\n    </tr>\n    <tr>\n      <th>133401</th>\n      <td>MYB6901</td>\n      <td>NaN</td>\n      <td>NaN</td>\n      <td>NaN</td>\n      <td>2023-10-16</td>\n      <td>NaN</td>\n      <td>38080</td>\n      <td>경상남도 밀양시</td>\n      <td>밀양</td>\n    </tr>\n  </tbody>\n</table>\n</div>"
     },
     "execution_count": 6,
     "metadata": {},
     "output_type": "execute_result"
    }
   ],
   "source": [
    "station_df[station_df['위도'].isna()]"
   ],
   "metadata": {
    "collapsed": false,
    "ExecuteTime": {
     "end_time": "2023-12-29T01:41:48.272166Z",
     "start_time": "2023-12-29T01:41:48.197987Z"
    }
   },
   "id": "bd48a1c53ee97502",
   "execution_count": 6
  },
  {
   "cell_type": "code",
   "outputs": [
    {
     "data": {
      "text/plain": "          정류장번호 정류장명  위도  경도       정보수집일  모바일단축번호   도시코드       도시명 관리도시명\n133400  MYB6900  NaN NaN NaN  2023-10-16      NaN  38080  경상남도 밀양시    밀양\n133401  MYB6901  NaN NaN NaN  2023-10-16      NaN  38080  경상남도 밀양시    밀양",
      "text/html": "<div>\n<style scoped>\n    .dataframe tbody tr th:only-of-type {\n        vertical-align: middle;\n    }\n\n    .dataframe tbody tr th {\n        vertical-align: top;\n    }\n\n    .dataframe thead th {\n        text-align: right;\n    }\n</style>\n<table border=\"1\" class=\"dataframe\">\n  <thead>\n    <tr style=\"text-align: right;\">\n      <th></th>\n      <th>정류장번호</th>\n      <th>정류장명</th>\n      <th>위도</th>\n      <th>경도</th>\n      <th>정보수집일</th>\n      <th>모바일단축번호</th>\n      <th>도시코드</th>\n      <th>도시명</th>\n      <th>관리도시명</th>\n    </tr>\n  </thead>\n  <tbody>\n    <tr>\n      <th>133400</th>\n      <td>MYB6900</td>\n      <td>NaN</td>\n      <td>NaN</td>\n      <td>NaN</td>\n      <td>2023-10-16</td>\n      <td>NaN</td>\n      <td>38080</td>\n      <td>경상남도 밀양시</td>\n      <td>밀양</td>\n    </tr>\n    <tr>\n      <th>133401</th>\n      <td>MYB6901</td>\n      <td>NaN</td>\n      <td>NaN</td>\n      <td>NaN</td>\n      <td>2023-10-16</td>\n      <td>NaN</td>\n      <td>38080</td>\n      <td>경상남도 밀양시</td>\n      <td>밀양</td>\n    </tr>\n  </tbody>\n</table>\n</div>"
     },
     "execution_count": 7,
     "metadata": {},
     "output_type": "execute_result"
    }
   ],
   "source": [
    "station_df[station_df['경도'].isna()]"
   ],
   "metadata": {
    "collapsed": false,
    "ExecuteTime": {
     "end_time": "2023-12-29T01:41:48.302774Z",
     "start_time": "2023-12-29T01:41:48.244056Z"
    }
   },
   "id": "5d4dd6a071bf4f1e",
   "execution_count": 7
  },
  {
   "cell_type": "code",
   "outputs": [
    {
     "name": "stdout",
     "output_type": "stream",
     "text": [
      "모바일단축번호\n"
     ]
    }
   ],
   "source": [
    "# 위도와 경도가 NaN 값을 가지고 있다면, 해당 row를 삭제한다\n",
    "station_df.dropna(subset=['위도', '경도'], inplace=True)\n",
    "\n",
    "# NA 값이 존재하는지 확인한다\n",
    "for col in station_df.columns:\n",
    "    if sum(station_df[col].isna()):\n",
    "        print(col)"
   ],
   "metadata": {
    "collapsed": false,
    "ExecuteTime": {
     "end_time": "2023-12-29T01:41:48.900200Z",
     "start_time": "2023-12-29T01:41:48.267155Z"
    }
   },
   "id": "867bf1080b24922e",
   "execution_count": 8
  },
  {
   "cell_type": "code",
   "outputs": [
    {
     "data": {
      "text/plain": "True"
     },
     "execution_count": 9,
     "metadata": {},
     "output_type": "execute_result"
    }
   ],
   "source": [
    "station_df['정류장번호'].nunique() == len(station_df)"
   ],
   "metadata": {
    "collapsed": false,
    "ExecuteTime": {
     "end_time": "2023-12-29T01:41:49.019626Z",
     "start_time": "2023-12-29T01:41:48.651445Z"
    }
   },
   "id": "b7ecaca713fddc04",
   "execution_count": 9
  },
  {
   "cell_type": "code",
   "outputs": [],
   "source": [
    "# 컬럼명을 영문으로 변경한다\n",
    "station_df.rename(columns={\n",
    "    '정류장번호': 'node_id',\n",
    "    '정류장명': 'node_name',\n",
    "    '위도': 'latitude',\n",
    "    '경도': 'longitude',\n",
    "    '정보수집일': 'collectd_time',\n",
    "    '모바일단축번호': 'mobile_id',\n",
    "    '도시코드': 'city_code',\n",
    "    '도시명': 'city_name',\n",
    "    '관리도시명': 'admin_name'\n",
    "}, inplace=True)\n",
    "\n",
    "# mobile_id에 na 값 여부를 확인한다\n",
    "sum(station_df['mobile_id'].isna())\n",
    "\n",
    "# NA 값은 0으로 채우고, 데이터 타입을 Int형으로 변환한다\n",
    "station_df['mobile_id'] = station_df['mobile_id'].fillna(0)\n",
    "station_df['mobile_id'] = station_df['mobile_id'].astype('int')\n",
    "# 정류장명 데이터 타입을 str형으로 변환한다\n",
    "station_df['node_name'] = station_df['node_name'].astype(str)\n",
    "\n",
    "# 데이터 중에 위도와 경도가 값이 바뀐 데이터가 있으므로, 올바르게 변경해준다\n",
    "idx = station_df.index[station_df['node_id'] == 'JEB406002082'].tolist()[0]\n",
    "station_df.loc[idx, ['latitude', 'longitude']] = station_df.loc[idx, ['longitude', 'latitude']].values\n",
    "\n",
    "# UTF-8 encoding으로 다시 저장한다\n",
    "station_filename = 'bus_station.csv'\n",
    "station_df.to_csv(station_filename, encoding='utf-8', index=False)"
   ],
   "metadata": {
    "collapsed": false,
    "ExecuteTime": {
     "end_time": "2023-12-29T01:41:50.365387Z",
     "start_time": "2023-12-29T01:41:48.784762Z"
    }
   },
   "id": "5e4f500b9b314ee5",
   "execution_count": 10
  },
  {
   "cell_type": "code",
   "outputs": [],
   "source": [
    "station_df = pd.read_csv(station_filename)"
   ],
   "metadata": {
    "collapsed": false,
    "ExecuteTime": {
     "end_time": "2023-12-29T01:41:51.055672Z",
     "start_time": "2023-12-29T01:41:50.366465Z"
    }
   },
   "id": "e7d876adc91ce144",
   "execution_count": 11
  },
  {
   "cell_type": "code",
   "outputs": [
    {
     "name": "stdout",
     "output_type": "stream",
     "text": [
      "<class 'pandas.core.frame.DataFrame'>\n",
      "RangeIndex: 204207 entries, 0 to 204206\n",
      "Data columns (total 9 columns):\n",
      " #   Column         Non-Null Count   Dtype  \n",
      "---  ------         --------------   -----  \n",
      " 0   node_id        204207 non-null  object \n",
      " 1   node_name      204207 non-null  object \n",
      " 2   latitude       204207 non-null  float64\n",
      " 3   longitude      204207 non-null  float64\n",
      " 4   collectd_time  204207 non-null  object \n",
      " 5   mobile_id      204207 non-null  int64  \n",
      " 6   city_code      204207 non-null  int64  \n",
      " 7   city_name      204207 non-null  object \n",
      " 8   admin_name     204207 non-null  object \n",
      "dtypes: float64(2), int64(2), object(5)\n",
      "memory usage: 14.0+ MB\n"
     ]
    }
   ],
   "source": [
    "station_df.info()"
   ],
   "metadata": {
    "collapsed": false,
    "ExecuteTime": {
     "end_time": "2023-12-29T01:41:51.149653Z",
     "start_time": "2023-12-29T01:41:51.056423Z"
    }
   },
   "id": "e43d6faac19acff6",
   "execution_count": 12
  },
  {
   "cell_type": "code",
   "outputs": [
    {
     "data": {
      "text/plain": "        node_id node_name   latitude   longitude collectd_time  mobile_id  \\\n0  ADB354000076      신덕1리  36.524325  128.830926    2023-10-16     540076   \n1  ADB354000077        나천  36.484444  128.876390    2023-10-16     540077   \n2  ADB354000078       골삽실  36.462248  128.887606    2023-10-16     540078   \n\n   city_code city_name admin_name  \n0      37040  경상북도 안동시         안동  \n1      37040  경상북도 안동시         안동  \n2      37040  경상북도 안동시         안동  ",
      "text/html": "<div>\n<style scoped>\n    .dataframe tbody tr th:only-of-type {\n        vertical-align: middle;\n    }\n\n    .dataframe tbody tr th {\n        vertical-align: top;\n    }\n\n    .dataframe thead th {\n        text-align: right;\n    }\n</style>\n<table border=\"1\" class=\"dataframe\">\n  <thead>\n    <tr style=\"text-align: right;\">\n      <th></th>\n      <th>node_id</th>\n      <th>node_name</th>\n      <th>latitude</th>\n      <th>longitude</th>\n      <th>collectd_time</th>\n      <th>mobile_id</th>\n      <th>city_code</th>\n      <th>city_name</th>\n      <th>admin_name</th>\n    </tr>\n  </thead>\n  <tbody>\n    <tr>\n      <th>0</th>\n      <td>ADB354000076</td>\n      <td>신덕1리</td>\n      <td>36.524325</td>\n      <td>128.830926</td>\n      <td>2023-10-16</td>\n      <td>540076</td>\n      <td>37040</td>\n      <td>경상북도 안동시</td>\n      <td>안동</td>\n    </tr>\n    <tr>\n      <th>1</th>\n      <td>ADB354000077</td>\n      <td>나천</td>\n      <td>36.484444</td>\n      <td>128.876390</td>\n      <td>2023-10-16</td>\n      <td>540077</td>\n      <td>37040</td>\n      <td>경상북도 안동시</td>\n      <td>안동</td>\n    </tr>\n    <tr>\n      <th>2</th>\n      <td>ADB354000078</td>\n      <td>골삽실</td>\n      <td>36.462248</td>\n      <td>128.887606</td>\n      <td>2023-10-16</td>\n      <td>540078</td>\n      <td>37040</td>\n      <td>경상북도 안동시</td>\n      <td>안동</td>\n    </tr>\n  </tbody>\n</table>\n</div>"
     },
     "execution_count": 13,
     "metadata": {},
     "output_type": "execute_result"
    }
   ],
   "source": [
    "station_df.head(3)"
   ],
   "metadata": {
    "collapsed": false,
    "ExecuteTime": {
     "end_time": "2023-12-29T01:41:51.285552Z",
     "start_time": "2023-12-29T01:41:51.134354Z"
    }
   },
   "id": "53cb7d79485637af",
   "execution_count": 13
  },
  {
   "cell_type": "code",
   "outputs": [
    {
     "data": {
      "text/plain": "            node_id node_name   latitude   longitude collectd_time  mobile_id  \\\n62658  GGB106000438   서울의료원후문  37.613750  127.098200    2023-10-16       7433   \n71884  GGB206000458      우성상가  37.377517  127.132267    2023-10-16       7433   \n\n       city_code city_name admin_name  \n62658         11     서울특별시         경기  \n71884      31020   경기도 성남시         경기  ",
      "text/html": "<div>\n<style scoped>\n    .dataframe tbody tr th:only-of-type {\n        vertical-align: middle;\n    }\n\n    .dataframe tbody tr th {\n        vertical-align: top;\n    }\n\n    .dataframe thead th {\n        text-align: right;\n    }\n</style>\n<table border=\"1\" class=\"dataframe\">\n  <thead>\n    <tr style=\"text-align: right;\">\n      <th></th>\n      <th>node_id</th>\n      <th>node_name</th>\n      <th>latitude</th>\n      <th>longitude</th>\n      <th>collectd_time</th>\n      <th>mobile_id</th>\n      <th>city_code</th>\n      <th>city_name</th>\n      <th>admin_name</th>\n    </tr>\n  </thead>\n  <tbody>\n    <tr>\n      <th>62658</th>\n      <td>GGB106000438</td>\n      <td>서울의료원후문</td>\n      <td>37.613750</td>\n      <td>127.098200</td>\n      <td>2023-10-16</td>\n      <td>7433</td>\n      <td>11</td>\n      <td>서울특별시</td>\n      <td>경기</td>\n    </tr>\n    <tr>\n      <th>71884</th>\n      <td>GGB206000458</td>\n      <td>우성상가</td>\n      <td>37.377517</td>\n      <td>127.132267</td>\n      <td>2023-10-16</td>\n      <td>7433</td>\n      <td>31020</td>\n      <td>경기도 성남시</td>\n      <td>경기</td>\n    </tr>\n  </tbody>\n</table>\n</div>"
     },
     "execution_count": 14,
     "metadata": {},
     "output_type": "execute_result"
    }
   ],
   "source": [
    "station_df[station_df['mobile_id'] == 7433]"
   ],
   "metadata": {
    "collapsed": false,
    "ExecuteTime": {
     "end_time": "2023-12-29T01:41:51.408685Z",
     "start_time": "2023-12-29T01:41:51.177944Z"
    }
   },
   "id": "c8add1fe172f60c2",
   "execution_count": 14
  },
  {
   "cell_type": "code",
   "outputs": [
    {
     "data": {
      "text/plain": "Empty DataFrame\nColumns: [node_id, node_name, latitude, longitude, collectd_time, mobile_id, city_code, city_name, admin_name]\nIndex: []",
      "text/html": "<div>\n<style scoped>\n    .dataframe tbody tr th:only-of-type {\n        vertical-align: middle;\n    }\n\n    .dataframe tbody tr th {\n        vertical-align: top;\n    }\n\n    .dataframe thead th {\n        text-align: right;\n    }\n</style>\n<table border=\"1\" class=\"dataframe\">\n  <thead>\n    <tr style=\"text-align: right;\">\n      <th></th>\n      <th>node_id</th>\n      <th>node_name</th>\n      <th>latitude</th>\n      <th>longitude</th>\n      <th>collectd_time</th>\n      <th>mobile_id</th>\n      <th>city_code</th>\n      <th>city_name</th>\n      <th>admin_name</th>\n    </tr>\n  </thead>\n  <tbody>\n  </tbody>\n</table>\n</div>"
     },
     "execution_count": 15,
     "metadata": {},
     "output_type": "execute_result"
    }
   ],
   "source": [
    "station_df[station_df['latitude'] == 126.415368]"
   ],
   "metadata": {
    "collapsed": false,
    "ExecuteTime": {
     "end_time": "2023-12-29T01:41:51.434739Z",
     "start_time": "2023-12-29T01:41:51.205584Z"
    }
   },
   "id": "d976ff0fdb8891fb",
   "execution_count": 15
  },
  {
   "cell_type": "markdown",
   "source": [
    "---"
   ],
   "metadata": {
    "collapsed": false
   },
   "id": "21c5f4008e9e2099"
  },
  {
   "cell_type": "code",
   "outputs": [],
   "source": [
    "route_df = pd.read_excel('서울시버스노선별정류소정보(20231215).xlsx', engine='openpyxl')"
   ],
   "metadata": {
    "collapsed": false,
    "ExecuteTime": {
     "end_time": "2023-12-29T01:42:00.265943Z",
     "start_time": "2023-12-29T01:41:51.236319Z"
    }
   },
   "id": "379f6f85df25e84e",
   "execution_count": 16
  },
  {
   "cell_type": "code",
   "outputs": [
    {
     "data": {
      "text/plain": "    ROUTE_ID   노선명  순번    NODE_ID  ARS_ID        정류소명         X좌표        Y좌표\n0  100100288  5714   1  213000455   38629   광명공영차고지기점  126.872566  37.458065\n1  116000006   703   1  219000691   36022  경남아너스빌.탄현역  126.764273  37.693393\n2  100100398  9703   1  219000691   36022  경남아너스빌.탄현역  126.764273  37.693393",
      "text/html": "<div>\n<style scoped>\n    .dataframe tbody tr th:only-of-type {\n        vertical-align: middle;\n    }\n\n    .dataframe tbody tr th {\n        vertical-align: top;\n    }\n\n    .dataframe thead th {\n        text-align: right;\n    }\n</style>\n<table border=\"1\" class=\"dataframe\">\n  <thead>\n    <tr style=\"text-align: right;\">\n      <th></th>\n      <th>ROUTE_ID</th>\n      <th>노선명</th>\n      <th>순번</th>\n      <th>NODE_ID</th>\n      <th>ARS_ID</th>\n      <th>정류소명</th>\n      <th>X좌표</th>\n      <th>Y좌표</th>\n    </tr>\n  </thead>\n  <tbody>\n    <tr>\n      <th>0</th>\n      <td>100100288</td>\n      <td>5714</td>\n      <td>1</td>\n      <td>213000455</td>\n      <td>38629</td>\n      <td>광명공영차고지기점</td>\n      <td>126.872566</td>\n      <td>37.458065</td>\n    </tr>\n    <tr>\n      <th>1</th>\n      <td>116000006</td>\n      <td>703</td>\n      <td>1</td>\n      <td>219000691</td>\n      <td>36022</td>\n      <td>경남아너스빌.탄현역</td>\n      <td>126.764273</td>\n      <td>37.693393</td>\n    </tr>\n    <tr>\n      <th>2</th>\n      <td>100100398</td>\n      <td>9703</td>\n      <td>1</td>\n      <td>219000691</td>\n      <td>36022</td>\n      <td>경남아너스빌.탄현역</td>\n      <td>126.764273</td>\n      <td>37.693393</td>\n    </tr>\n  </tbody>\n</table>\n</div>"
     },
     "execution_count": 17,
     "metadata": {},
     "output_type": "execute_result"
    }
   ],
   "source": [
    "route_df.head(3)"
   ],
   "metadata": {
    "collapsed": false,
    "ExecuteTime": {
     "end_time": "2023-12-29T01:42:00.318510Z",
     "start_time": "2023-12-29T01:42:00.280442Z"
    }
   },
   "id": "3f25f43b229667da",
   "execution_count": 17
  },
  {
   "cell_type": "code",
   "outputs": [],
   "source": [
    "# NA 값이 존재하는지 확인한다\n",
    "for col in route_df.columns:\n",
    "    if sum(route_df[col].isna()):\n",
    "        print(col)"
   ],
   "metadata": {
    "collapsed": false,
    "ExecuteTime": {
     "end_time": "2023-12-29T01:42:00.500260Z",
     "start_time": "2023-12-29T01:42:00.344156Z"
    }
   },
   "id": "9784ede187cda226",
   "execution_count": 18
  },
  {
   "cell_type": "code",
   "outputs": [],
   "source": [
    "# 컬럼명을 영문으로 통일한다\n",
    "route_df.rename(columns={\n",
    "    'ROUTE_ID': 'route_id',\n",
    "    '노선명': 'route_name',\n",
    "    '순번': 'route_order',\n",
    "    'NODE_ID': 'node_id',\n",
    "    'ARS_ID': 'ars_id',\n",
    "    '정류소명': 'station_name',\n",
    "    'X좌표': 'longitude',\n",
    "    'Y좌표': 'latitude'\n",
    "}, inplace=True)\n",
    "\n",
    "route_filename = 'bus_route.csv'\n",
    "route_df.to_csv(route_filename, encoding='utf-8', index=False)"
   ],
   "metadata": {
    "collapsed": false,
    "ExecuteTime": {
     "end_time": "2023-12-29T01:42:00.923802Z",
     "start_time": "2023-12-29T01:42:00.366779Z"
    }
   },
   "id": "795cd33f1bb92a8f",
   "execution_count": 19
  },
  {
   "cell_type": "code",
   "outputs": [],
   "source": [
    "route_df = pd.read_csv(route_filename)"
   ],
   "metadata": {
    "collapsed": false,
    "ExecuteTime": {
     "end_time": "2023-12-29T01:42:01.086730Z",
     "start_time": "2023-12-29T01:42:00.758274Z"
    }
   },
   "id": "b77705350f6fb14f",
   "execution_count": 20
  },
  {
   "cell_type": "code",
   "outputs": [
    {
     "data": {
      "text/plain": "    route_id route_name  route_order    node_id  ars_id station_name  \\\n0  100100288       5714            1  213000455   38629    광명공영차고지기점   \n1  116000006        703            1  219000691   36022   경남아너스빌.탄현역   \n2  100100398       9703            1  219000691   36022   경남아너스빌.탄현역   \n\n    longitude   latitude  \n0  126.872566  37.458065  \n1  126.764273  37.693393  \n2  126.764273  37.693393  ",
      "text/html": "<div>\n<style scoped>\n    .dataframe tbody tr th:only-of-type {\n        vertical-align: middle;\n    }\n\n    .dataframe tbody tr th {\n        vertical-align: top;\n    }\n\n    .dataframe thead th {\n        text-align: right;\n    }\n</style>\n<table border=\"1\" class=\"dataframe\">\n  <thead>\n    <tr style=\"text-align: right;\">\n      <th></th>\n      <th>route_id</th>\n      <th>route_name</th>\n      <th>route_order</th>\n      <th>node_id</th>\n      <th>ars_id</th>\n      <th>station_name</th>\n      <th>longitude</th>\n      <th>latitude</th>\n    </tr>\n  </thead>\n  <tbody>\n    <tr>\n      <th>0</th>\n      <td>100100288</td>\n      <td>5714</td>\n      <td>1</td>\n      <td>213000455</td>\n      <td>38629</td>\n      <td>광명공영차고지기점</td>\n      <td>126.872566</td>\n      <td>37.458065</td>\n    </tr>\n    <tr>\n      <th>1</th>\n      <td>116000006</td>\n      <td>703</td>\n      <td>1</td>\n      <td>219000691</td>\n      <td>36022</td>\n      <td>경남아너스빌.탄현역</td>\n      <td>126.764273</td>\n      <td>37.693393</td>\n    </tr>\n    <tr>\n      <th>2</th>\n      <td>100100398</td>\n      <td>9703</td>\n      <td>1</td>\n      <td>219000691</td>\n      <td>36022</td>\n      <td>경남아너스빌.탄현역</td>\n      <td>126.764273</td>\n      <td>37.693393</td>\n    </tr>\n  </tbody>\n</table>\n</div>"
     },
     "execution_count": 21,
     "metadata": {},
     "output_type": "execute_result"
    }
   ],
   "source": [
    "route_df.head(3)"
   ],
   "metadata": {
    "collapsed": false,
    "ExecuteTime": {
     "end_time": "2023-12-29T01:42:01.125325Z",
     "start_time": "2023-12-29T01:42:00.986971Z"
    }
   },
   "id": "9922481d45f7bd11",
   "execution_count": 21
  },
  {
   "cell_type": "code",
   "outputs": [
    {
     "name": "stdout",
     "output_type": "stream",
     "text": [
      "<class 'pandas.core.frame.DataFrame'>\n",
      "RangeIndex: 46654 entries, 0 to 46653\n",
      "Data columns (total 8 columns):\n",
      " #   Column        Non-Null Count  Dtype  \n",
      "---  ------        --------------  -----  \n",
      " 0   route_id      46654 non-null  int64  \n",
      " 1   route_name    46654 non-null  object \n",
      " 2   route_order   46654 non-null  int64  \n",
      " 3   node_id       46654 non-null  int64  \n",
      " 4   ars_id        46654 non-null  int64  \n",
      " 5   station_name  46654 non-null  object \n",
      " 6   longitude     46654 non-null  float64\n",
      " 7   latitude      46654 non-null  float64\n",
      "dtypes: float64(2), int64(4), object(2)\n",
      "memory usage: 2.8+ MB\n"
     ]
    }
   ],
   "source": [
    "route_df.info()"
   ],
   "metadata": {
    "collapsed": false,
    "ExecuteTime": {
     "end_time": "2023-12-29T01:42:01.163486Z",
     "start_time": "2023-12-29T01:42:01.003958Z"
    }
   },
   "id": "4f49c2ca95e00ee",
   "execution_count": 22
  },
  {
   "cell_type": "code",
   "outputs": [
    {
     "data": {
      "text/plain": "False"
     },
     "execution_count": 23,
     "metadata": {},
     "output_type": "execute_result"
    }
   ],
   "source": [
    "route_df['route_id'].nunique() == len(route_df)"
   ],
   "metadata": {
    "collapsed": false,
    "ExecuteTime": {
     "end_time": "2023-12-29T01:42:01.185815Z",
     "start_time": "2023-12-29T01:42:01.047601Z"
    }
   },
   "id": "32394e4e55a22530",
   "execution_count": 23
  },
  {
   "cell_type": "code",
   "outputs": [],
   "source": [],
   "metadata": {
    "collapsed": false,
    "ExecuteTime": {
     "end_time": "2023-12-29T01:42:01.187124Z",
     "start_time": "2023-12-29T01:42:01.057266Z"
    }
   },
   "id": "3603ff6007b10813",
   "execution_count": 23
  }
 ],
 "metadata": {
  "kernelspec": {
   "display_name": "Python 3",
   "language": "python",
   "name": "python3"
  },
  "language_info": {
   "codemirror_mode": {
    "name": "ipython",
    "version": 2
   },
   "file_extension": ".py",
   "mimetype": "text/x-python",
   "name": "python",
   "nbconvert_exporter": "python",
   "pygments_lexer": "ipython2",
   "version": "2.7.6"
  }
 },
 "nbformat": 4,
 "nbformat_minor": 5
}
