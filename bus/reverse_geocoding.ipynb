{
 "cells": [
  {
   "cell_type": "code",
   "execution_count": 12,
   "id": "initial_id",
   "metadata": {
    "collapsed": true,
    "ExecuteTime": {
     "end_time": "2023-12-29T01:48:21.568004Z",
     "start_time": "2023-12-29T01:48:21.424673Z"
    }
   },
   "outputs": [],
   "source": [
    "import pandas as pd\n",
    "import geopandas as gpd\n",
    "\n",
    "from pyproj import Transformer\n",
    "from shapely import Point"
   ]
  },
  {
   "cell_type": "code",
   "outputs": [],
   "source": [
    "route_df = pd.read_csv('./bus_route.csv')\n",
    "addr_df = gpd.read_file('../geo/hang_jeong_gu.geojson')"
   ],
   "metadata": {
    "collapsed": false,
    "ExecuteTime": {
     "end_time": "2023-12-29T01:44:07.613384Z",
     "start_time": "2023-12-29T01:44:06.499646Z"
    }
   },
   "id": "e23110875f1ff3f5",
   "execution_count": 5
  },
  {
   "cell_type": "code",
   "outputs": [],
   "source": [
    "target_crs = addr_df.crs\n",
    "\n",
    "transformer = Transformer.from_crs(target_crs, target_crs, always_xy=True)\n",
    "locations = [Point(transformer.transform(lat, lon)) for lat, lon in zip(route_df['latitude'], route_df['longitude'])]"
   ],
   "metadata": {
    "collapsed": false,
    "ExecuteTime": {
     "end_time": "2023-12-29T02:02:58.598046Z",
     "start_time": "2023-12-29T02:02:57.893131Z"
    }
   },
   "id": "4305de0c8929e1b3",
   "execution_count": 40
  },
  {
   "cell_type": "code",
   "outputs": [],
   "source": [
    "route_df['sido'] = [addr_df.loc[addr_df['geometry'].contains(point), 'sido'].iloc[0]\n",
    "                    if not addr_df.loc[addr_df['geometry'].contains(point)].empty\n",
    "                    else ''\n",
    "                    for point in locations]"
   ],
   "metadata": {
    "collapsed": false,
    "ExecuteTime": {
     "end_time": "2023-12-29T02:15:25.222838Z",
     "start_time": "2023-12-29T02:12:43.673501Z"
    }
   },
   "id": "c940ace0422026ad",
   "execution_count": 60
  },
  {
   "cell_type": "code",
   "outputs": [
    {
     "data": {
      "text/plain": "        route_id route_name  route_order    node_id  ars_id     station_name  \\\n0      100100288       5714            1  213000455   38629        광명공영차고지기점   \n1      116000006        703            1  219000691   36022       경남아너스빌.탄현역   \n2      100100398       9703            1  219000691   36022       경남아너스빌.탄현역   \n3      107900016     성북14-2            1  107900344    8832    래미안장위퍼스트하이아파트   \n4      124900002       강동01            1  124900138   25610           지식산업센터   \n...          ...        ...          ...        ...     ...              ...   \n46649  100100589        N61          185  114000125   15228         신정학마을아파트   \n46650  100100106        703          185  229000274   63913        문산수억중고등학교   \n46651  100100589        N61          186  114000257   15362  신정현대아파트.서부트럭터미널   \n46652  100100106        703          186  229001040   63911           자이안트부대   \n46653  100100589        N61          187  114000267   15373          양천공영차고지   \n\n        longitude   latitude sido  \n0      126.872566  37.458065       \n1      126.764273  37.693393       \n2      126.764273  37.693393       \n3      127.050552  37.619504   서울  \n4      127.159978  37.565373   서울  \n...           ...        ...  ...  \n46649  126.843963  37.507421   서울  \n46650  126.803699  37.853013       \n46651  126.842007  37.509011   서울  \n46652  126.797854  37.855896       \n46653  126.837219  37.508493   서울  \n\n[46654 rows x 9 columns]",
      "text/html": "<div>\n<style scoped>\n    .dataframe tbody tr th:only-of-type {\n        vertical-align: middle;\n    }\n\n    .dataframe tbody tr th {\n        vertical-align: top;\n    }\n\n    .dataframe thead th {\n        text-align: right;\n    }\n</style>\n<table border=\"1\" class=\"dataframe\">\n  <thead>\n    <tr style=\"text-align: right;\">\n      <th></th>\n      <th>route_id</th>\n      <th>route_name</th>\n      <th>route_order</th>\n      <th>node_id</th>\n      <th>ars_id</th>\n      <th>station_name</th>\n      <th>longitude</th>\n      <th>latitude</th>\n      <th>sido</th>\n    </tr>\n  </thead>\n  <tbody>\n    <tr>\n      <th>0</th>\n      <td>100100288</td>\n      <td>5714</td>\n      <td>1</td>\n      <td>213000455</td>\n      <td>38629</td>\n      <td>광명공영차고지기점</td>\n      <td>126.872566</td>\n      <td>37.458065</td>\n      <td></td>\n    </tr>\n    <tr>\n      <th>1</th>\n      <td>116000006</td>\n      <td>703</td>\n      <td>1</td>\n      <td>219000691</td>\n      <td>36022</td>\n      <td>경남아너스빌.탄현역</td>\n      <td>126.764273</td>\n      <td>37.693393</td>\n      <td></td>\n    </tr>\n    <tr>\n      <th>2</th>\n      <td>100100398</td>\n      <td>9703</td>\n      <td>1</td>\n      <td>219000691</td>\n      <td>36022</td>\n      <td>경남아너스빌.탄현역</td>\n      <td>126.764273</td>\n      <td>37.693393</td>\n      <td></td>\n    </tr>\n    <tr>\n      <th>3</th>\n      <td>107900016</td>\n      <td>성북14-2</td>\n      <td>1</td>\n      <td>107900344</td>\n      <td>8832</td>\n      <td>래미안장위퍼스트하이아파트</td>\n      <td>127.050552</td>\n      <td>37.619504</td>\n      <td>서울</td>\n    </tr>\n    <tr>\n      <th>4</th>\n      <td>124900002</td>\n      <td>강동01</td>\n      <td>1</td>\n      <td>124900138</td>\n      <td>25610</td>\n      <td>지식산업센터</td>\n      <td>127.159978</td>\n      <td>37.565373</td>\n      <td>서울</td>\n    </tr>\n    <tr>\n      <th>...</th>\n      <td>...</td>\n      <td>...</td>\n      <td>...</td>\n      <td>...</td>\n      <td>...</td>\n      <td>...</td>\n      <td>...</td>\n      <td>...</td>\n      <td>...</td>\n    </tr>\n    <tr>\n      <th>46649</th>\n      <td>100100589</td>\n      <td>N61</td>\n      <td>185</td>\n      <td>114000125</td>\n      <td>15228</td>\n      <td>신정학마을아파트</td>\n      <td>126.843963</td>\n      <td>37.507421</td>\n      <td>서울</td>\n    </tr>\n    <tr>\n      <th>46650</th>\n      <td>100100106</td>\n      <td>703</td>\n      <td>185</td>\n      <td>229000274</td>\n      <td>63913</td>\n      <td>문산수억중고등학교</td>\n      <td>126.803699</td>\n      <td>37.853013</td>\n      <td></td>\n    </tr>\n    <tr>\n      <th>46651</th>\n      <td>100100589</td>\n      <td>N61</td>\n      <td>186</td>\n      <td>114000257</td>\n      <td>15362</td>\n      <td>신정현대아파트.서부트럭터미널</td>\n      <td>126.842007</td>\n      <td>37.509011</td>\n      <td>서울</td>\n    </tr>\n    <tr>\n      <th>46652</th>\n      <td>100100106</td>\n      <td>703</td>\n      <td>186</td>\n      <td>229001040</td>\n      <td>63911</td>\n      <td>자이안트부대</td>\n      <td>126.797854</td>\n      <td>37.855896</td>\n      <td></td>\n    </tr>\n    <tr>\n      <th>46653</th>\n      <td>100100589</td>\n      <td>N61</td>\n      <td>187</td>\n      <td>114000267</td>\n      <td>15373</td>\n      <td>양천공영차고지</td>\n      <td>126.837219</td>\n      <td>37.508493</td>\n      <td>서울</td>\n    </tr>\n  </tbody>\n</table>\n<p>46654 rows × 9 columns</p>\n</div>"
     },
     "execution_count": 61,
     "metadata": {},
     "output_type": "execute_result"
    }
   ],
   "source": [
    "route_df"
   ],
   "metadata": {
    "collapsed": false,
    "ExecuteTime": {
     "end_time": "2023-12-29T02:17:32.605821Z",
     "start_time": "2023-12-29T02:17:32.577658Z"
    }
   },
   "id": "2e784a3da8e1556c",
   "execution_count": 61
  },
  {
   "cell_type": "code",
   "outputs": [],
   "source": [],
   "metadata": {
    "collapsed": false
   },
   "id": "c5c6ad996d9ca890"
  }
 ],
 "metadata": {
  "kernelspec": {
   "display_name": "Python 3",
   "language": "python",
   "name": "python3"
  },
  "language_info": {
   "codemirror_mode": {
    "name": "ipython",
    "version": 2
   },
   "file_extension": ".py",
   "mimetype": "text/x-python",
   "name": "python",
   "nbconvert_exporter": "python",
   "pygments_lexer": "ipython2",
   "version": "2.7.6"
  }
 },
 "nbformat": 4,
 "nbformat_minor": 5
}
